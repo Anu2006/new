{
 "cells": [
  {
   "cell_type": "code",
   "execution_count": 25,
   "metadata": {},
   "outputs": [],
   "source": [
    "from astropy.io import fits"
   ]
  },
  {
   "cell_type": "code",
   "execution_count": 35,
   "metadata": {},
   "outputs": [],
   "source": [
    "data, header = fits.getdata(\"E:/books/fedora-fit.fits\", header=True)\n",
    "fp = fits.open('E:/books/fedora-fit.fits')        "
   ]
  },
  {
   "cell_type": "code",
   "execution_count": 40,
   "metadata": {},
   "outputs": [],
   "source": [
    "for head, value in fp[0].header.items():\n",
    "    if not value:\n",
    "        header[head] = 1"
   ]
  },
  {
   "cell_type": "code",
   "execution_count": 41,
   "metadata": {},
   "outputs": [],
   "source": [
    "fits.writeto('E:/books/output-fit.fits', data, header, overwrite=True)"
   ]
  },
  {
   "cell_type": "markdown",
   "metadata": {},
   "source": [
    "# astropy\n",
    "\n",
    "astropy is a pakage that supports astronomy in python and it is a datascience based pakage there is a special file format in astropy called .fits and that is most likely a machine readable format in text. the famous anaconda distribution comes with this package built-in.\n",
    "\n",
    "this package targets astronomers and astrophysists but it also helps normal people to build astronomy related programs. they also have affiliated pakages that are requested to be in the main package. astropy is build in python."
   ]
  }
 ],
 "metadata": {
  "kernelspec": {
   "display_name": "Python 3",
   "language": "python",
   "name": "python3"
  },
  "language_info": {
   "codemirror_mode": {
    "name": "ipython",
    "version": 3
   },
   "file_extension": ".py",
   "mimetype": "text/x-python",
   "name": "python",
   "nbconvert_exporter": "python",
   "pygments_lexer": "ipython3",
   "version": "3.7.4"
  }
 },
 "nbformat": 4,
 "nbformat_minor": 2
}
